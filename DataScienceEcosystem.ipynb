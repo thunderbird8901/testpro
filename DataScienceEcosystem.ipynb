{
 "cells": [
  {
   "cell_type": "markdown",
   "id": "9d440745-119c-42fb-99af-2d754a95c76b",
   "metadata": {},
   "source": [
    "# Data Science Tools and Ecosystem"
   ]
  },
  {
   "cell_type": "markdown",
   "id": "fb9129d9-dcd9-4bf3-abd9-60189ba60f76",
   "metadata": {},
   "source": [
    "In this note book, Data Science Tools and Ecosystem are Summarized."
   ]
  },
  {
   "cell_type": "markdown",
   "id": "25a975da-7e79-4db3-a0c3-72d5ed1d8e82",
   "metadata": {},
   "source": [
    "Some of the popular languages that data scientists use are:\n",
    "1. Python\n",
    "2. Java\n",
    "3. C++\n",
    "4. C"
   ]
  },
  {
   "cell_type": "markdown",
   "id": "c05299a1-598d-4345-9d8c-cd795c0af828",
   "metadata": {},
   "source": [
    "**Objectives:**\n",
    "\n",
    "- Python\n",
    "- Java\n",
    "- C++\n",
    "- C"
   ]
  },
  {
   "cell_type": "markdown",
   "id": "8ad9a93c-55d2-4268-bbb1-cd99ecec223f",
   "metadata": {},
   "source": [
    "Some of the commonly used libraries used by Data Scientists include:\n",
    "1. **Numpy**\n",
    "2. **Pandas**\n",
    "3. **Matplotlib**\n",
    "4. **Tenserflow**"
   ]
  },
  {
   "cell_type": "markdown",
   "id": "1f0f13dd-7212-482b-a624-be76f515c414",
   "metadata": {},
   "source": [
    "| Data Science Tools |\n",
    "| ------------------ |\n",
    "| Jupyter Notebook |\n",
    "| Rstudio |\n",
    "| Apache |"
   ]
  },
  {
   "cell_type": "markdown",
   "id": "d8f14775-ff50-4f77-9b0d-86220bff8547",
   "metadata": {},
   "source": [
    "### Introducing Arithmetic Expression"
   ]
  },
  {
   "cell_type": "markdown",
   "id": "26786f35-acb0-4ac8-8845-1e89f74d3452",
   "metadata": {},
   "source": [
    "This is a arithmetic expression to multiply then add integers. "
   ]
  },
  {
   "cell_type": "code",
   "execution_count": 4,
   "id": "8cb1f818-b88a-41af-a684-092b2cf224bb",
   "metadata": {},
   "outputs": [
    {
     "data": {
      "text/plain": [
       "17"
      ]
     },
     "execution_count": 4,
     "metadata": {},
     "output_type": "execute_result"
    }
   ],
   "source": [
    "(3*4)+5"
   ]
  },
  {
   "cell_type": "code",
   "execution_count": 5,
   "id": "4334772e-ea6f-4622-803a-13674ef2c00b",
   "metadata": {},
   "outputs": [
    {
     "data": {
      "text/plain": [
       "3.3333333333333335"
      ]
     },
     "execution_count": 5,
     "metadata": {},
     "output_type": "execute_result"
    }
   ],
   "source": [
    "# Convert minutes to hours\n",
    "minutes = 200\n",
    "hours = minutes / 60\n",
    "hours"
   ]
  },
  {
   "cell_type": "markdown",
   "id": "9798b72b-e3e0-46a4-b000-076666e5c76a",
   "metadata": {},
   "source": [
    "## Neel Vyas"
   ]
  },
  {
   "cell_type": "code",
   "execution_count": null,
   "id": "aee1150d-6041-43f3-b2f7-abf7ff94bbdf",
   "metadata": {},
   "outputs": [],
   "source": []
  }
 ],
 "metadata": {
  "kernelspec": {
   "display_name": "Python 3 (ipykernel)",
   "language": "python",
   "name": "python3"
  },
  "language_info": {
   "codemirror_mode": {
    "name": "ipython",
    "version": 3
   },
   "file_extension": ".py",
   "mimetype": "text/x-python",
   "name": "python",
   "nbconvert_exporter": "python",
   "pygments_lexer": "ipython3",
   "version": "3.12.5"
  }
 },
 "nbformat": 4,
 "nbformat_minor": 5
}
